{
  "cells": [
    {
      "cell_type": "code",
      "execution_count": 1,
      "metadata": {
        "id": "Wpsn0NM_einH"
      },
      "outputs": [],
      "source": [
        "import json\n",
        "import spacy\n",
        "from spacy import displacy\n",
        "from spacy.training import Example\n",
        "from spacy.util import minibatch, compounding\n",
        "import random\n",
        "import time\n",
        "import pickle"
      ]
    },
    {
      "cell_type": "code",
      "execution_count": 2,
      "metadata": {
        "id": "h0j2tAMWfPJd"
      },
      "outputs": [],
      "source": [
        "# Load JSON data\n",
        "def load_json(file_path):\n",
        "    with open(file_path, 'r', encoding='utf-8') as f:\n",
        "        return json.load(f)"
      ]
    },
    {
      "cell_type": "code",
      "execution_count": 4,
      "metadata": {
        "id": "CXjRrSW3fXgp"
      },
      "outputs": [],
      "source": [
        "file_1 = load_json(\"C:/Users/user/OneDrive/Desktop/json/file1.json\")\n",
        "file_2 = load_json(\"C:/Users/user/OneDrive/Desktop/json/file2.json\")\n",
        "file_3 = load_json(\"C:/Users/user/OneDrive/Desktop/json/file3.json\")\n",
        "file_4 = load_json(\"C:/Users/user/OneDrive/Desktop/json/file4.json\")\n",
        "file_5 = load_json(\"C:/Users/user/OneDrive/Desktop/json/file5.json\")\n",
        "file_6 = load_json(\"C:/Users/user/OneDrive/Desktop/json/file6.json\")\n",
        "file_7 = load_json(\"C:/Users/user/OneDrive/Desktop/json/file7.json\")\n",
        "file_8 = load_json(\"C:/Users/user/OneDrive/Desktop/json/file8.json\")\n",
        "file_9 = load_json(\"C:/Users/user/OneDrive/Desktop/json/file9.json\")\n",
        "file_10 = load_json(\"C:/Users/user/OneDrive/Desktop/json/file10.json\")\n",
        "file_11 = load_json(\"C:/Users/user/OneDrive/Desktop/json/file11.json\")\n",
        "file_12 = load_json(\"C:/Users/user/OneDrive/Desktop/json/file12.json\")\n",
        "file_13 = load_json(\"C:/Users/user/OneDrive/Desktop/json/file13.json\")\n",
        "file_14 = load_json(\"C:/Users/user/OneDrive/Desktop/json/file14.json\")\n",
        "file_15 = load_json(\"C:/Users/user/OneDrive/Desktop/json/file15.json\")\n"
      ]
    },
    {
      "cell_type": "code",
      "execution_count": 5,
      "metadata": {
        "id": "TbMKnS59gUi6"
      },
      "outputs": [],
      "source": [
        "# Convert JSON data to training format\n",
        "def convert_data(data):\n",
        "    training_data = []\n",
        "    for item in data.get(\"annotations\", []):\n",
        "        if item is None:\n",
        "            continue\n",
        "        try:\n",
        "            text, annotations = item\n",
        "            if not text or not annotations or \"entities\" not in annotations:\n",
        "                continue\n",
        "            entities = [(start, end, label) for start, end, label in annotations[\"entities\"]]\n",
        "            training_data.append((text, {\"entities\": entities}))\n",
        "        except ValueError:\n",
        "            continue\n",
        "    return training_data"
      ]
    },
    {
      "cell_type": "code",
      "execution_count": 6,
      "metadata": {
        "id": "Vdy-O1-mgZe7"
      },
      "outputs": [],
      "source": [
        "# Combine training data from all files\n",
        "training_data = []\n",
        "files = [file_1, file_2, file_3, file_4, file_5, file_6, file_7, file_8, file_9, file_10, file_11, file_12, file_13, file_14, file_15]\n",
        "for file in files:\n",
        "    training_data.extend(convert_data(file))"
      ]
    },
    {
      "cell_type": "code",
      "execution_count": 7,
      "metadata": {
        "id": "5eQD9AU5ga5c"
      },
      "outputs": [],
      "source": [
        "# Split data into training and validation sets\n",
        "random.shuffle(training_data)\n",
        "split = int(len(training_data) * 0.8)\n",
        "train_data = training_data[:split]\n",
        "val_data = training_data[split:]"
      ]
    },
    {
      "cell_type": "code",
      "execution_count": 8,
      "metadata": {
        "id": "AxyJx1H9ghHo"
      },
      "outputs": [],
      "source": [
        "# Create a blank spaCy model\n",
        "nlp = spacy.blank(\"en\")\n",
        "\n",
        "# Create the NER component and add it to the pipeline\n",
        "ner = nlp.add_pipe(\"ner\")"
      ]
    },
    {
      "cell_type": "code",
      "execution_count": 9,
      "metadata": {
        "id": "0YHOVj4rgkjR"
      },
      "outputs": [],
      "source": [
        "# Add new labels to the NER component\n",
        "for _, annotations in training_data:\n",
        "    for ent in annotations.get(\"entities\"):\n",
        "        ner.add_label(ent[2])\n",
        "\n",
        "# Disable other pipeline components (if any)\n",
        "pipe_exceptions = [\"ner\"]\n",
        "unaffected_pipes = [pipe for pipe in nlp.pipe_names if pipe not in pipe_exceptions]"
      ]
    },
    {
      "cell_type": "code",
      "execution_count": 10,
      "metadata": {
        "colab": {
          "base_uri": "https://localhost:8080/"
        },
        "id": "saOzWMC6grti",
        "outputId": "53b70b00-4e73-4567-8999-f9a4c57db360"
      },
      "outputs": [
        {
          "name": "stderr",
          "output_type": "stream",
          "text": [
            "c:\\Users\\user\\AppData\\Local\\Programs\\Python\\Python312\\Lib\\site-packages\\spacy\\training\\iob_utils.py:149: UserWarning: [W030] Some entities could not be aligned in the text \"Police: Man killed ex grandmother after son wasn&a...\" with entities \"[(54, 58, 'NUMBER')]\". Use `spacy.training.offsets_to_biluo_tags(nlp.make_doc(text), entities)` to check the alignment. Misaligned entities ('-') will be ignored during training.\n",
            "  warnings.warn(\n",
            "c:\\Users\\user\\AppData\\Local\\Programs\\Python\\Python312\\Lib\\site-packages\\spacy\\training\\iob_utils.py:149: UserWarning: [W030] Some entities could not be aligned in the text \"ÛÏ@BBCEngland: A burst water main causes major fl...\" with entities \"[(4, 14, 'LOCATION'), (48, 56, 'DISASTER'), (62, 7...\". Use `spacy.training.offsets_to_biluo_tags(nlp.make_doc(text), entities)` to check the alignment. Misaligned entities ('-') will be ignored during training.\n",
            "  warnings.warn(\n",
            "c:\\Users\\user\\AppData\\Local\\Programs\\Python\\Python312\\Lib\\site-packages\\spacy\\training\\iob_utils.py:149: UserWarning: [W030] Some entities could not be aligned in the text \"\"?#FUKUSHIMA?#TEPCO?\" with entities \"[(3, 12, 'LOCATION')]\". Use `spacy.training.offsets_to_biluo_tags(nlp.make_doc(text), entities)` to check the alignment. Misaligned entities ('-') will be ignored during training.\n",
            "  warnings.warn(\n",
            "c:\\Users\\user\\AppData\\Local\\Programs\\Python\\Python312\\Lib\\site-packages\\spacy\\training\\iob_utils.py:149: UserWarning: [W030] Some entities could not be aligned in the text \"#TruckCrash Overturns On #FortWorth Interstate htt...\" with entities \"[(1, 11, 'DISASTER'), (26, 35, 'LOCATION'), (101, ...\". Use `spacy.training.offsets_to_biluo_tags(nlp.make_doc(text), entities)` to check the alignment. Misaligned entities ('-') will be ignored during training.\n",
            "  warnings.warn(\n",
            "c:\\Users\\user\\AppData\\Local\\Programs\\Python\\Python312\\Lib\\site-packages\\spacy\\training\\iob_utils.py:149: UserWarning: [W030] Some entities could not be aligned in the text \"Dozens Die As two Trains Derail Into A River In In...\" with entities \"[(0, 6, 'NUMBER'), (25, 31, 'DISASTER'), (48, 57, ...\". Use `spacy.training.offsets_to_biluo_tags(nlp.make_doc(text), entities)` to check the alignment. Misaligned entities ('-') will be ignored during training.\n",
            "  warnings.warn(\n",
            "c:\\Users\\user\\AppData\\Local\\Programs\\Python\\Python312\\Lib\\site-packages\\spacy\\training\\iob_utils.py:149: UserWarning: [W030] Some entities could not be aligned in the text \"8/6/2015@1:08 PM: HAZARD IN HIGH TRAFFIC AREA at 1...\" with entities \"[(0, 8, 'DATE'), (49, 53, 'NUMBER')]\". Use `spacy.training.offsets_to_biluo_tags(nlp.make_doc(text), entities)` to check the alignment. Misaligned entities ('-') will be ignored during training.\n",
            "  warnings.warn(\n",
            "c:\\Users\\user\\AppData\\Local\\Programs\\Python\\Python312\\Lib\\site-packages\\spacy\\training\\iob_utils.py:149: UserWarning: [W030] Some entities could not be aligned in the text \"Map shows where all of California's wild#fires are...\" with entities \"[(23, 33, 'LOCATION'), (41, 46, 'DISASTER')]\". Use `spacy.training.offsets_to_biluo_tags(nlp.make_doc(text), entities)` to check the alignment. Misaligned entities ('-') will be ignored during training.\n",
            "  warnings.warn(\n",
            "c:\\Users\\user\\AppData\\Local\\Programs\\Python\\Python312\\Lib\\site-packages\\spacy\\training\\iob_utils.py:149: UserWarning: [W030] Some entities could not be aligned in the text \"@ChubbySquirrel_ @Hurricane_Surge this here is ver...\" with entities \"[(18, 33, 'DISASTER')]\". Use `spacy.training.offsets_to_biluo_tags(nlp.make_doc(text), entities)` to check the alignment. Misaligned entities ('-') will be ignored during training.\n",
            "  warnings.warn(\n",
            "c:\\Users\\user\\AppData\\Local\\Programs\\Python\\Python312\\Lib\\site-packages\\spacy\\training\\iob_utils.py:149: UserWarning: [W030] Some entities could not be aligned in the text \"Came across this fire video not mine..enjoy..#fire...\" with entities \"[(17, 21, 'DISASTER'), (46, 50, 'DISASTER')]\". Use `spacy.training.offsets_to_biluo_tags(nlp.make_doc(text), entities)` to check the alignment. Misaligned entities ('-') will be ignored during training.\n",
            "  warnings.warn(\n",
            "c:\\Users\\user\\AppData\\Local\\Programs\\Python\\Python312\\Lib\\site-packages\\spacy\\training\\iob_utils.py:149: UserWarning: [W030] Some entities could not be aligned in the text \"@cspanwj If 90BLKs&amp;8WHTs colluded 2 take WHT F...\" with entities \"[(12, 18, 'NUMBER'), (23, 28, 'NUMBER'), (38, 39, ...\". Use `spacy.training.offsets_to_biluo_tags(nlp.make_doc(text), entities)` to check the alignment. Misaligned entities ('-') will be ignored during training.\n",
            "  warnings.warn(\n",
            "c:\\Users\\user\\AppData\\Local\\Programs\\Python\\Python312\\Lib\\site-packages\\spacy\\training\\iob_utils.py:149: UserWarning: [W030] Some entities could not be aligned in the text \"@CAgov If 90BLKs&amp;8WHTs colluded 2 take WHT F @...\" with entities \"[(36, 37, 'NUMBER'), (74, 75, 'NUMBER')]\". Use `spacy.training.offsets_to_biluo_tags(nlp.make_doc(text), entities)` to check the alignment. Misaligned entities ('-') will be ignored during training.\n",
            "  warnings.warn(\n",
            "c:\\Users\\user\\AppData\\Local\\Programs\\Python\\Python312\\Lib\\site-packages\\spacy\\training\\iob_utils.py:149: UserWarning: [W030] Some entities could not be aligned in the text \"@Hurricane_Dame ???????? I don't have them they ou...\" with entities \"[(1, 15, 'DISASTER')]\". Use `spacy.training.offsets_to_biluo_tags(nlp.make_doc(text), entities)` to check the alignment. Misaligned entities ('-') will be ignored during training.\n",
            "  warnings.warn(\n",
            "c:\\Users\\user\\AppData\\Local\\Programs\\Python\\Python312\\Lib\\site-packages\\spacy\\training\\iob_utils.py:149: UserWarning: [W030] Some entities could not be aligned in the text \"Tonight we have attended a fire in Romford with @L...\" with entities \"[(27, 31, 'DISASTER'), (49, 59, 'LOCATION')]\". Use `spacy.training.offsets_to_biluo_tags(nlp.make_doc(text), entities)` to check the alignment. Misaligned entities ('-') will be ignored during training.\n",
            "  warnings.warn(\n",
            "c:\\Users\\user\\AppData\\Local\\Programs\\Python\\Python312\\Lib\\site-packages\\spacy\\training\\iob_utils.py:149: UserWarning: [W030] Some entities could not be aligned in the text \"@wfaaweather Pete when will the heat wave pass? Is...\" with entities \"[(32, 41, 'DISASTER'), (123, 127, 'LOCATION')]\". Use `spacy.training.offsets_to_biluo_tags(nlp.make_doc(text), entities)` to check the alignment. Misaligned entities ('-') will be ignored during training.\n",
            "  warnings.warn(\n",
            "c:\\Users\\user\\AppData\\Local\\Programs\\Python\\Python312\\Lib\\site-packages\\spacy\\training\\iob_utils.py:149: UserWarning: [W030] Some entities could not be aligned in the text \"@HowardU If 90BLKs&amp;8WHTs colluded 2 take WHT F...\" with entities \"[(12, 18, 'NUMBER'), (23, 28, 'NUMBER'), (38, 39, ...\". Use `spacy.training.offsets_to_biluo_tags(nlp.make_doc(text), entities)` to check the alignment. Misaligned entities ('-') will be ignored during training.\n",
            "  warnings.warn(\n",
            "c:\\Users\\user\\AppData\\Local\\Programs\\Python\\Python312\\Lib\\site-packages\\spacy\\training\\iob_utils.py:149: UserWarning: [W030] Some entities could not be aligned in the text \"@StationCDRKelly Any Support Sys 4 @USAgov AUTH ta...\" with entities \"[(33, 34, 'NUMBER'), (85, 86, 'NUMBER'), (127, 139...\". Use `spacy.training.offsets_to_biluo_tags(nlp.make_doc(text), entities)` to check the alignment. Misaligned entities ('-') will be ignored during training.\n",
            "  warnings.warn(\n",
            "c:\\Users\\user\\AppData\\Local\\Programs\\Python\\Python312\\Lib\\site-packages\\spacy\\training\\iob_utils.py:149: UserWarning: [W030] Some entities could not be aligned in the text \"@Kinder_Morgan can'twon't tell @cityofkamloops how...\" with entities \"[(32, 46, 'LOCATION ')]\". Use `spacy.training.offsets_to_biluo_tags(nlp.make_doc(text), entities)` to check the alignment. Misaligned entities ('-') will be ignored during training.\n",
            "  warnings.warn(\n",
            "c:\\Users\\user\\AppData\\Local\\Programs\\Python\\Python312\\Lib\\site-packages\\spacy\\training\\iob_utils.py:149: UserWarning: [W030] Some entities could not be aligned in the text \"#pakistan#news# NANKANA SAHIB City News: Electrocu...\" with entities \"[(1, 9, 'LOCATION'), (41, 53, 'DISASTER')]\". Use `spacy.training.offsets_to_biluo_tags(nlp.make_doc(text), entities)` to check the alignment. Misaligned entities ('-') will be ignored during training.\n",
            "  warnings.warn(\n",
            "c:\\Users\\user\\AppData\\Local\\Programs\\Python\\Python312\\Lib\\site-packages\\spacy\\training\\iob_utils.py:149: UserWarning: [W030] Some entities could not be aligned in the text \"FYI: ;ACCIDENT PROPERTY DAMAGE;3460 LIMESTONE LN;C...\" with entities \"[(31, 35, 'NUMBER'), (83, 93, 'DATE')]\". Use `spacy.training.offsets_to_biluo_tags(nlp.make_doc(text), entities)` to check the alignment. Misaligned entities ('-') will be ignored during training.\n",
            "  warnings.warn(\n",
            "c:\\Users\\user\\AppData\\Local\\Programs\\Python\\Python312\\Lib\\site-packages\\spacy\\training\\iob_utils.py:149: UserWarning: [W030] Some entities could not be aligned in the text \"#pakistan#news# PAKPATTAN City News: Man electrocu...\" with entities \"[(1, 9, 'LOCATION')]\". Use `spacy.training.offsets_to_biluo_tags(nlp.make_doc(text), entities)` to check the alignment. Misaligned entities ('-') will be ignored during training.\n",
            "  warnings.warn(\n",
            "c:\\Users\\user\\AppData\\Local\\Programs\\Python\\Python312\\Lib\\site-packages\\spacy\\training\\iob_utils.py:149: UserWarning: [W030] Some entities could not be aligned in the text \"FYI CAD:FYI: ;ACCIDENT PROPERTY DAMAGE;WPD;1600 S ...\" with entities \"[(14, 22, 'DISASTER'), (43, 47, 'NUMBER'), (50, 54...\". Use `spacy.training.offsets_to_biluo_tags(nlp.make_doc(text), entities)` to check the alignment. Misaligned entities ('-') will be ignored during training.\n",
            "  warnings.warn(\n",
            "c:\\Users\\user\\AppData\\Local\\Programs\\Python\\Python312\\Lib\\site-packages\\spacy\\training\\iob_utils.py:149: UserWarning: [W030] Some entities could not be aligned in the text \"11:30BST traffic: A10&gt;Paris A40 Geneva A7 Mons ...\" with entities \"[(25, 30, 'LOCATION'), (35, 41, 'LOCATION'), (45, ...\". Use `spacy.training.offsets_to_biluo_tags(nlp.make_doc(text), entities)` to check the alignment. Misaligned entities ('-') will be ignored during training.\n",
            "  warnings.warn(\n",
            "c:\\Users\\user\\AppData\\Local\\Programs\\Python\\Python312\\Lib\\site-packages\\spacy\\training\\iob_utils.py:149: UserWarning: [W030] Some entities could not be aligned in the text \"Denali wolf population declined from 143 in 2007 2...\" with entities \"[(122, 128, 'LOCATION')]\". Use `spacy.training.offsets_to_biluo_tags(nlp.make_doc(text), entities)` to check the alignment. Misaligned entities ('-') will be ignored during training.\n",
            "  warnings.warn(\n",
            "c:\\Users\\user\\AppData\\Local\\Programs\\Python\\Python312\\Lib\\site-packages\\spacy\\training\\iob_utils.py:149: UserWarning: [W030] Some entities could not be aligned in the text \"`bbcnews The Ass. of British Insurers says rioting...\" with entities \"[(77, 80, 'NUMBER'), (81, 84, 'NUMBER')]\". Use `spacy.training.offsets_to_biluo_tags(nlp.make_doc(text), entities)` to check the alignment. Misaligned entities ('-') will be ignored during training.\n",
            "  warnings.warn(\n",
            "c:\\Users\\user\\AppData\\Local\\Programs\\Python\\Python312\\Lib\\site-packages\\spacy\\training\\iob_utils.py:149: UserWarning: [W030] Some entities could not be aligned in the text \"FYI CAD:FYI: ;ACCIDENT PROPERTY DAMAGE;NHS;999 PIN...\" with entities \"[(14, 22, 'DISASTER'), (43, 46, 'NUMBER'), (47, 64...\". Use `spacy.training.offsets_to_biluo_tags(nlp.make_doc(text), entities)` to check the alignment. Misaligned entities ('-') will be ignored during training.\n",
            "  warnings.warn(\n",
            "\" with entities \"[(14, 15, 'NUMBER')]\". Use `spacy.training.offsets_to_biluo_tags(nlp.make_doc(text), entities)` to check the alignment. Misaligned entities ('-') will be ignored during training.\n",
            "  warnings.warn(\n",
            "c:\\Users\\user\\AppData\\Local\\Programs\\Python\\Python312\\Lib\\site-packages\\spacy\\training\\iob_utils.py:149: UserWarning: [W030] Some entities could not be aligned in the text \"\".Sink Holes Earth Slides And Avalanches&gt;&gt;ht...\" with entities \"[(13, 25, 'DISASTER'), (30, 40, 'DISASTER')]\". Use `spacy.training.offsets_to_biluo_tags(nlp.make_doc(text), entities)` to check the alignment. Misaligned entities ('-') will be ignored during training.\n",
            "  warnings.warn(\n",
            "c:\\Users\\user\\AppData\\Local\\Programs\\Python\\Python312\\Lib\\site-packages\\spacy\\training\\iob_utils.py:149: UserWarning: [W030] Some entities could not be aligned in the text \"If i tweet daily #Fukushima #Japan global nuclear ...\" with entities \"[(18, 27, 'LOCATION'), (29, 34, 'LOCATION'), (42, ...\". Use `spacy.training.offsets_to_biluo_tags(nlp.make_doc(text), entities)` to check the alignment. Misaligned entities ('-') will be ignored during training.\n",
            "  warnings.warn(\n",
            "c:\\Users\\user\\AppData\\Local\\Programs\\Python\\Python312\\Lib\\site-packages\\spacy\\training\\iob_utils.py:149: UserWarning: [W030] Some entities could not be aligned in the text \"8/6/2015@1:32 PM: HAZARD IN HIGH TRAFFIC AREA at 5...\" with entities \"[(0, 8, 'DATE'), (18, 24, 'DISASTER'), (49, 53, 'N...\". Use `spacy.training.offsets_to_biluo_tags(nlp.make_doc(text), entities)` to check the alignment. Misaligned entities ('-') will be ignored during training.\n",
            "  warnings.warn(\n",
            "\" with entities \"[(1, 16, 'DISASTER')]\". Use `spacy.training.offsets_to_biluo_tags(nlp.make_doc(text), entities)` to check the alignment. Misaligned entities ('-') will be ignored during training.b\n",
            "  warnings.warn(\n",
            "c:\\Users\\user\\AppData\\Local\\Programs\\Python\\Python312\\Lib\\site-packages\\spacy\\training\\iob_utils.py:149: UserWarning: [W030] Some entities could not be aligned in the text \"Wow-the name #LegionnairesDisease comes from an ou...\" with entities \"[(14, 33, 'DISASTER'), (78, 92, 'LOCATION '), (107...\". Use `spacy.training.offsets_to_biluo_tags(nlp.make_doc(text), entities)` to check the alignment. Misaligned entities ('-') will be ignored during training.\n",
            "  warnings.warn(\n",
            "c:\\Users\\user\\AppData\\Local\\Programs\\Python\\Python312\\Lib\\site-packages\\spacy\\training\\iob_utils.py:149: UserWarning: [W030] Some entities could not be aligned in the text \"8/6/2015@2:09 PM: TRAFFIC ACCIDENT NO INJURY at 27...\" with entities \"[(0, 8, 'DATE'), (18, 34, 'DISASTER'), (48, 52, 'N...\". Use `spacy.training.offsets_to_biluo_tags(nlp.make_doc(text), entities)` to check the alignment. Misaligned entities ('-') will be ignored during training.\n",
            "  warnings.warn(\n"
          ]
        },
        {
          "name": "stdout",
          "output_type": "stream",
          "text": [
            "Epoch 1/10\n",
            " - 1884/1884 - 51.97s - loss: 9628.910990601822 - val_loss: 1075.8171350032183\n",
            "Epoch 2/10\n",
            " - 1884/1884 - 47.76s - loss: 4095.7652194155335 - val_loss: 665.297682274841\n",
            "Epoch 3/10\n",
            " - 1884/1884 - 32.78s - loss: 3995.375361298474 - val_loss: 475.8388749362053\n",
            "Epoch 4/10\n",
            " - 1884/1884 - 32.95s - loss: 3800.0748378602516 - val_loss: 293.4221388732337\n",
            "Epoch 5/10\n",
            " - 1884/1884 - 39.77s - loss: 3779.830586144206 - val_loss: 258.71109213840674\n",
            "Epoch 6/10\n",
            " - 1884/1884 - 32.92s - loss: 3698.2269860252663 - val_loss: 239.49909336230488\n",
            "Epoch 7/10\n",
            " - 1884/1884 - 41.72s - loss: 3484.9706731401384 - val_loss: 169.46625107187953\n",
            "Epoch 8/10\n",
            " - 1884/1884 - 29.08s - loss: 3408.501753074768 - val_loss: 144.83177930335629\n",
            "Epoch 9/10\n",
            " - 1884/1884 - 33.09s - loss: 3268.5806395705886 - val_loss: 124.58374495510343\n",
            "Epoch 10/10\n",
            " - 1884/1884 - 28.56s - loss: 3238.5478811718262 - val_loss: 111.40453979887009\n"
          ]
        }
      ],
      "source": [
        "# Training the NER model\n",
        "epochs = 10\n",
        "batch_size = 32\n",
        "\n",
        "with nlp.disable_pipes(*unaffected_pipes):\n",
        "    optimizer = nlp.begin_training()\n",
        "    for epoch in range(epochs):\n",
        "        start_time = time.time()\n",
        "        random.shuffle(train_data)\n",
        "        losses = {}\n",
        "        batches = minibatch(train_data, size=batch_size)\n",
        "        for batch in batches:\n",
        "            texts, annotations = zip(*batch)\n",
        "            examples = [Example.from_dict(nlp.make_doc(text), ann) for text, ann in zip(texts, annotations)]\n",
        "            nlp.update(examples, drop=0.5, losses=losses)\n",
        "\n",
        "        # Calculate validation loss\n",
        "        val_loss = 0.0\n",
        "        for text, ann in val_data:\n",
        "            doc = nlp.make_doc(text)\n",
        "            example = Example.from_dict(doc, ann)\n",
        "            updates = ner.update([example], sgd=optimizer, drop=0.0)\n",
        "            val_loss += updates[\"ner\"]\n",
        "\n",
        "        end_time = time.time()\n",
        "        print(f\"Epoch {epoch+1}/{epochs}\")\n",
        "        print(f\" - {len(train_data)}/{len(train_data)} - {round(end_time - start_time, 2)}s - loss: {losses['ner']} - val_loss: {val_loss}\")\n"
      ]
    },
    {
      "cell_type": "code",
      "execution_count": 11,
      "metadata": {
        "id": "SmY6Nr12kspZ"
      },
      "outputs": [],
      "source": [
        "# Save the trained model using pickle\n",
        "with open(\"model.pkl\", \"wb\") as f:\n",
        "    pickle.dump(nlp, f)\n",
        "\n",
        "\n",
        "# Load the model using pickle\n",
        "with open(\"model.pkl\", \"rb\") as f:\n",
        "    nlp = pickle.load(f)\n"
      ]
    },
    {
      "cell_type": "code",
      "execution_count": 14,
      "metadata": {
        "id": "0VtuqeDQhBUf"
      },
      "outputs": [],
      "source": [
        "# Input text\n",
        "test_text = '''Just happened a terrible car crash\n",
        "Heard about #earthquake is different cities, stay safe everyone.\n",
        "there is a forest fire at spot pond, geese are fleeing across the street, I cannot save them all\n",
        "Apocalypse lighting. #Spokane #wildfires\n",
        "Typhoon Soudelor kills 28 in China and Taiwan\n",
        "Arson suspect linked to 30 fires caught in Northern California http://t.co/HkFPyNb4PS\n",
        "Horrible Accident Man Died In Wings of Airplane \n",
        "'''\n",
        "\n",
        "# Process the text\n",
        "doc = nlp(test_text)"
      ]
    },
    {
      "cell_type": "code",
      "execution_count": 15,
      "metadata": {
        "colab": {
          "base_uri": "https://localhost:8080/",
          "height": 262
        },
        "id": "qEBxpqXVhFRU",
        "outputId": "c3a85f15-965c-484a-fec1-cc5bb7a5beba"
      },
      "outputs": [
        {
          "data": {
            "text/html": [
              "<span class=\"tex2jax_ignore\"><div class=\"entities\" style=\"line-height: 2.5; direction: ltr\">Just happened a terrible \n",
              "<mark class=\"entity\" style=\"background: pink; padding: 0.45em 0.6em; margin: 0 0.25em; line-height: 1; border-radius: 0.35em;\">\n",
              "    car crash\n",
              "    <span style=\"font-size: 0.8em; font-weight: bold; line-height: 1; border-radius: 0.35em; vertical-align: middle; margin-left: 0.5rem\">DISASTER</span>\n",
              "</mark>\n",
              "<br>Heard about #\n",
              "<mark class=\"entity\" style=\"background: pink; padding: 0.45em 0.6em; margin: 0 0.25em; line-height: 1; border-radius: 0.35em;\">\n",
              "    earthquake\n",
              "    <span style=\"font-size: 0.8em; font-weight: bold; line-height: 1; border-radius: 0.35em; vertical-align: middle; margin-left: 0.5rem\">DISASTER</span>\n",
              "</mark>\n",
              " is different cities, stay safe everyone.<br>there is a \n",
              "<mark class=\"entity\" style=\"background: pink; padding: 0.45em 0.6em; margin: 0 0.25em; line-height: 1; border-radius: 0.35em;\">\n",
              "    forest fire\n",
              "    <span style=\"font-size: 0.8em; font-weight: bold; line-height: 1; border-radius: 0.35em; vertical-align: middle; margin-left: 0.5rem\">DISASTER</span>\n",
              "</mark>\n",
              " at spot pond, geese are fleeing across the street, I cannot save them all<br>Apocalypse lighting. #Spokane #wildfires<br>\n",
              "<mark class=\"entity\" style=\"background: pink; padding: 0.45em 0.6em; margin: 0 0.25em; line-height: 1; border-radius: 0.35em;\">\n",
              "    Typhoon\n",
              "    <span style=\"font-size: 0.8em; font-weight: bold; line-height: 1; border-radius: 0.35em; vertical-align: middle; margin-left: 0.5rem\">DISASTER</span>\n",
              "</mark>\n",
              " Soudelor kills \n",
              "<mark class=\"entity\" style=\"background: grey; padding: 0.45em 0.6em; margin: 0 0.25em; line-height: 1; border-radius: 0.35em;\">\n",
              "    28\n",
              "    <span style=\"font-size: 0.8em; font-weight: bold; line-height: 1; border-radius: 0.35em; vertical-align: middle; margin-left: 0.5rem\">NUMBER</span>\n",
              "</mark>\n",
              " in \n",
              "<mark class=\"entity\" style=\"background: #8da0cb; padding: 0.45em 0.6em; margin: 0 0.25em; line-height: 1; border-radius: 0.35em;\">\n",
              "    China\n",
              "    <span style=\"font-size: 0.8em; font-weight: bold; line-height: 1; border-radius: 0.35em; vertical-align: middle; margin-left: 0.5rem\">LOCATION</span>\n",
              "</mark>\n",
              " and \n",
              "<mark class=\"entity\" style=\"background: #8da0cb; padding: 0.45em 0.6em; margin: 0 0.25em; line-height: 1; border-radius: 0.35em;\">\n",
              "    Taiwan\n",
              "    <span style=\"font-size: 0.8em; font-weight: bold; line-height: 1; border-radius: 0.35em; vertical-align: middle; margin-left: 0.5rem\">LOCATION</span>\n",
              "</mark>\n",
              "<br>Arson suspect linked to \n",
              "<mark class=\"entity\" style=\"background: grey; padding: 0.45em 0.6em; margin: 0 0.25em; line-height: 1; border-radius: 0.35em;\">\n",
              "    30\n",
              "    <span style=\"font-size: 0.8em; font-weight: bold; line-height: 1; border-radius: 0.35em; vertical-align: middle; margin-left: 0.5rem\">NUMBER</span>\n",
              "</mark>\n",
              " \n",
              "<mark class=\"entity\" style=\"background: pink; padding: 0.45em 0.6em; margin: 0 0.25em; line-height: 1; border-radius: 0.35em;\">\n",
              "    fires\n",
              "    <span style=\"font-size: 0.8em; font-weight: bold; line-height: 1; border-radius: 0.35em; vertical-align: middle; margin-left: 0.5rem\">DISASTER</span>\n",
              "</mark>\n",
              " caught in \n",
              "<mark class=\"entity\" style=\"background: #8da0cb; padding: 0.45em 0.6em; margin: 0 0.25em; line-height: 1; border-radius: 0.35em;\">\n",
              "    Northern California\n",
              "    <span style=\"font-size: 0.8em; font-weight: bold; line-height: 1; border-radius: 0.35em; vertical-align: middle; margin-left: 0.5rem\">LOCATION</span>\n",
              "</mark>\n",
              " http://t.co/HkFPyNb4PS<br>Horrible \n",
              "<mark class=\"entity\" style=\"background: pink; padding: 0.45em 0.6em; margin: 0 0.25em; line-height: 1; border-radius: 0.35em;\">\n",
              "    Accident\n",
              "    <span style=\"font-size: 0.8em; font-weight: bold; line-height: 1; border-radius: 0.35em; vertical-align: middle; margin-left: 0.5rem\">DISASTER</span>\n",
              "</mark>\n",
              " Man Died In Wings of Airplane <br></div></span>"
            ],
            "text/plain": [
              "<IPython.core.display.HTML object>"
            ]
          },
          "metadata": {},
          "output_type": "display_data"
        }
      ],
      "source": [
        "# Define custom colors for entities\n",
        "colors = {\n",
        "    \"DISASTER\": \"pink\",\n",
        "    \"LOCATION\": \"#8da0cb\",\n",
        "    \"DATE\": \"yellow\",\n",
        "    \"NUMBER\": \"grey\",\n",
        "}\n",
        "\n",
        "# Create options for displaCy with custom colors\n",
        "options = {\"colors\": colors}\n",
        "\n",
        "# Visualize the recognized entities with custom colors\n",
        "displacy.render(doc, style=\"ent\", jupyter=True, options=options)"
      ]
    }
  ],
  "metadata": {
    "colab": {
      "provenance": []
    },
    "kernelspec": {
      "display_name": "Python 3",
      "name": "python3"
    },
    "language_info": {
      "codemirror_mode": {
        "name": "ipython",
        "version": 3
      },
      "file_extension": ".py",
      "mimetype": "text/x-python",
      "name": "python",
      "nbconvert_exporter": "python",
      "pygments_lexer": "ipython3",
      "version": "3.12.3"
    }
  },
  "nbformat": 4,
  "nbformat_minor": 0
}
